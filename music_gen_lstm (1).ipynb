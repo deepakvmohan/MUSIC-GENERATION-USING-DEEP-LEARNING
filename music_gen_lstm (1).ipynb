{
 "cells": [
  {
   "cell_type": "code",
   "execution_count": 1,
   "metadata": {},
   "outputs": [],
   "source": [
    "from music21 import *"
   ]
  },
  {
   "cell_type": "code",
   "execution_count": 2,
   "metadata": {},
   "outputs": [],
   "source": [
    "#defining function to read MIDI files\n",
    "def read_midi(file):\n",
    "    \n",
    "    print(\"Loading Music File:\",file)\n",
    "    \n",
    "    notes=[]\n",
    "    notes_to_parse = None\n",
    "    \n",
    "    #parsing a midi file\n",
    "    midi = converter.parse(file)\n",
    "  \n",
    "    #grouping based on different instruments\n",
    "    s2 = instrument.partitionByInstrument(midi)\n",
    "\n",
    "    #Looping over all the instruments\n",
    "    for part in s2.parts:\n",
    "    \n",
    "        #select elements of only piano\n",
    "        if 'Piano' in str(part): \n",
    "        \n",
    "            notes_to_parse = part.recurse() \n",
    "      \n",
    "            #finding whether a particular element is note or a chord\n",
    "            for element in notes_to_parse:\n",
    "                \n",
    "                #note\n",
    "                if isinstance(element, note.Note):\n",
    "                    notes.append(str(element.pitch))\n",
    "                \n",
    "                #chord\n",
    "                elif isinstance(element, chord.Chord):\n",
    "                    notes.append('.'.join(str(n) for n in element.normalOrder))\n",
    "\n",
    "    return np.array(notes)"
   ]
  },
  {
   "cell_type": "code",
   "execution_count": 3,
   "metadata": {},
   "outputs": [
    {
     "name": "stdout",
     "output_type": "stream",
     "text": [
      "Loading Music File: schubert/schubert_D850_1.mid\n",
      "Loading Music File: schubert/schubert_D850_2.mid\n",
      "Loading Music File: schubert/schubert_D850_3.mid\n",
      "Loading Music File: schubert/schubert_D850_4.mid\n",
      "Loading Music File: schubert/schubert_D935_1.mid\n",
      "Loading Music File: schubert/schubert_D935_2.mid\n",
      "Loading Music File: schubert/schubert_D935_3.mid\n",
      "Loading Music File: schubert/schubert_D935_4.mid\n",
      "Loading Music File: schubert/schub_d760_1.mid\n",
      "Loading Music File: schubert/schub_d760_2.mid\n",
      "Loading Music File: schubert/schub_d760_3.mid\n",
      "Loading Music File: schubert/schub_d760_4.mid\n",
      "Loading Music File: schubert/schub_d960_1.mid\n",
      "Loading Music File: schubert/schub_d960_2.mid\n",
      "Loading Music File: schubert/schub_d960_3.mid\n",
      "Loading Music File: schubert/schub_d960_4.mid\n",
      "Loading Music File: schubert/schuim-1.mid\n",
      "Loading Music File: schubert/schuim-2.mid\n",
      "Loading Music File: schubert/schuim-3.mid\n",
      "Loading Music File: schubert/schuim-4.mid\n",
      "Loading Music File: schubert/schumm-1.mid\n",
      "Loading Music File: schubert/schumm-2.mid\n",
      "Loading Music File: schubert/schumm-3.mid\n",
      "Loading Music File: schubert/schumm-4.mid\n",
      "Loading Music File: schubert/schumm-5.mid\n",
      "Loading Music File: schubert/schumm-6.mid\n",
      "Loading Music File: schubert/schu_143_1.mid\n",
      "Loading Music File: schubert/schu_143_2.mid\n",
      "Loading Music File: schubert/schu_143_3.mid\n"
     ]
    },
    {
     "name": "stderr",
     "output_type": "stream",
     "text": [
      "C:\\Users\\crack\\miniconda3\\lib\\site-packages\\ipykernel_launcher.py:14: VisibleDeprecationWarning: Creating an ndarray from ragged nested sequences (which is a list-or-tuple of lists-or-tuples-or ndarrays with different lengths or shapes) is deprecated. If you meant to do this, you must specify 'dtype=object' when creating the ndarray\n",
      "  \n"
     ]
    }
   ],
   "source": [
    "#for listing down the file names\n",
    "import os\n",
    "\n",
    "#Array Processing\n",
    "import numpy as np\n",
    "\n",
    "#specify the path\n",
    "path='schubert/'\n",
    "\n",
    "#read all the filenames\n",
    "files=[i for i in os.listdir(path) if i.endswith(\".mid\")]\n",
    "\n",
    "#reading each midi file\n",
    "notes_array = np.array([read_midi(path+i) for i in files])\n"
   ]
  },
  {
   "cell_type": "code",
   "execution_count": 4,
   "metadata": {},
   "outputs": [
    {
     "name": "stdout",
     "output_type": "stream",
     "text": [
      "304\n"
     ]
    }
   ],
   "source": [
    "#converting 2D array into 1D array\n",
    "notes_ = [element for note_ in notes_array for element in note_]\n",
    "\n",
    "#No. of unique notes\n",
    "unique_notes = list(set(notes_))\n",
    "print(len(unique_notes))\n"
   ]
  },
  {
   "cell_type": "code",
   "execution_count": 5,
   "metadata": {},
   "outputs": [
    {
     "data": {
      "text/plain": [
       "(array([187.,  41.,  26.,  11.,   6.,   9.,  12.,   6.,   3.,   3.]),\n",
       " array([1.0000e+00, 1.4790e+02, 2.9480e+02, 4.4170e+02, 5.8860e+02,\n",
       "        7.3550e+02, 8.8240e+02, 1.0293e+03, 1.1762e+03, 1.3231e+03,\n",
       "        1.4700e+03]),\n",
       " <BarContainer object of 10 artists>)"
      ]
     },
     "execution_count": 5,
     "metadata": {},
     "output_type": "execute_result"
    },
    {
     "data": {
      "image/png": "[encoded data removed]",
      "text/plain": [
       "<Figure size 360x360 with 1 Axes>"
      ]
     },
     "metadata": {
      "image/png": {
       "height": 302,
       "width": 319
      },
      "needs_background": "light"
     },
     "output_type": "display_data"
    }
   ],
   "source": [
    "#importing library\n",
    "from collections import Counter\n",
    "\n",
    "#computing frequency of each note\n",
    "freq = dict(Counter(notes_))\n",
    "\n",
    "#library for visualiation\n",
    "import matplotlib.pyplot as plt\n",
    "\n",
    "#consider only the frequencies\n",
    "no=[count for _,count in freq.items()]\n",
    "\n",
    "#set the figure size\n",
    "plt.figure(figsize=(5,5))\n",
    "\n",
    "#plot\n",
    "plt.hist(no)"
   ]
  },
  {
   "cell_type": "code",
   "execution_count": 6,
   "metadata": {},
   "outputs": [
    {
     "name": "stdout",
     "output_type": "stream",
     "text": [
      "167\n"
     ]
    }
   ],
   "source": [
    "frequent_notes = [note_ for note_, count in freq.items() if count>=50]\n",
    "print(len(frequent_notes))"
   ]
  },
  {
   "cell_type": "code",
   "execution_count": 7,
   "metadata": {},
   "outputs": [
    {
     "name": "stderr",
     "output_type": "stream",
     "text": [
      "C:\\Users\\crack\\miniconda3\\lib\\site-packages\\ipykernel_launcher.py:10: VisibleDeprecationWarning: Creating an ndarray from ragged nested sequences (which is a list-or-tuple of lists-or-tuples-or ndarrays with different lengths or shapes) is deprecated. If you meant to do this, you must specify 'dtype=object' when creating the ndarray\n",
      "  # Remove the CWD from sys.path while we load stuff.\n"
     ]
    }
   ],
   "source": [
    "new_music=[]\n",
    "\n",
    "for notes in notes_array:\n",
    "    temp=[]\n",
    "    for note_ in notes:\n",
    "        if note_ in frequent_notes:\n",
    "            temp.append(note_)            \n",
    "    new_music.append(temp)\n",
    "    \n",
    "new_music = np.array(new_music)"
   ]
  },
  {
   "cell_type": "code",
   "execution_count": 8,
   "metadata": {},
   "outputs": [],
   "source": [
    "\n",
    "no_of_timesteps = 32\n",
    "x = []\n",
    "y = []\n",
    "\n",
    "for note_ in new_music:\n",
    "    for i in range(0, len(note_) - no_of_timesteps, 1):\n",
    "        \n",
    "        #preparing input and output sequences\n",
    "        input_ = note_[i:i + no_of_timesteps]\n",
    "        output = note_[i + no_of_timesteps]\n",
    "        \n",
    "        x.append(input_)\n",
    "        y.append(output)\n",
    "        \n",
    "x=np.array(x)\n",
    "y=np.array(y)"
   ]
  },
  {
   "cell_type": "code",
   "execution_count": 9,
   "metadata": {},
   "outputs": [],
   "source": [
    "unique_x = list(set(x.ravel()))\n",
    "x_note_to_int = dict((note_, number) for number, note_ in enumerate(unique_x))"
   ]
  },
  {
   "cell_type": "code",
   "execution_count": 10,
   "metadata": {},
   "outputs": [],
   "source": [
    "#preparing input sequences\n",
    "x_seq=[]\n",
    "for i in x:\n",
    "    temp=[]\n",
    "    for j in i:\n",
    "        #assigning unique integer to every note\n",
    "        temp.append(x_note_to_int[j])\n",
    "    x_seq.append(temp)\n",
    "    \n",
    "x_seq = np.array(x_seq)"
   ]
  },
  {
   "cell_type": "code",
   "execution_count": 11,
   "metadata": {},
   "outputs": [],
   "source": [
    "unique_y = list(set(y))\n",
    "y_note_to_int = dict((note_, number) for number, note_ in enumerate(unique_y)) \n",
    "y_seq=np.array([y_note_to_int[i] for i in y])"
   ]
  },
  {
   "cell_type": "code",
   "execution_count": 12,
   "metadata": {},
   "outputs": [],
   "source": [
    "from sklearn.model_selection import train_test_split\n",
    "x_tr, x_val, y_tr, y_val = train_test_split(x_seq,y_seq,test_size=0.2,random_state=0)"
   ]
  },
  {
   "cell_type": "code",
   "execution_count": 13,
   "metadata": {},
   "outputs": [],
   "source": [
    "def lstm():\n",
    "  model = Sequential()\n",
    "  model.add(LSTM(128,return_sequences=True))\n",
    "  model.add(LSTM(128))\n",
    "  model.add(Dense(256))\n",
    "  model.add(Activation('relu'))\n",
    "  model.add(Dense(n_vocab))\n",
    "  model.add(Activation('softmax'))\n",
    "  model.compile(loss='sparse_categorical_crossentropy', optimizer='adam')\n",
    "  return model"
   ]
  },
  {
   "cell_type": "code",
   "execution_count": 14,
   "metadata": {},
   "outputs": [
    {
     "name": "stderr",
     "output_type": "stream",
     "text": [
      "Using TensorFlow backend.\n"
     ]
    },
    {
     "name": "stdout",
     "output_type": "stream",
     "text": [
      "Model: \"sequential_1\"\n",
      "_________________________________________________________________\n",
      "Layer (type)                 Output Shape              Param #   \n",
      "=================================================================\n",
      "embedding_1 (Embedding)      (None, 32, 100)           16700     \n",
      "_________________________________________________________________\n",
      "conv1d_1 (Conv1D)            (None, 32, 64)            19264     \n",
      "_________________________________________________________________\n",
      "dropout_1 (Dropout)          (None, 32, 64)            0         \n",
      "_________________________________________________________________\n",
      "max_pooling1d_1 (MaxPooling1 (None, 16, 64)            0         \n",
      "_________________________________________________________________\n",
      "conv1d_2 (Conv1D)            (None, 16, 128)           24704     \n",
      "_________________________________________________________________\n",
      "dropout_2 (Dropout)          (None, 16, 128)           0         \n",
      "_________________________________________________________________\n",
      "max_pooling1d_2 (MaxPooling1 (None, 8, 128)            0         \n",
      "_________________________________________________________________\n",
      "conv1d_3 (Conv1D)            (None, 8, 256)            98560     \n",
      "_________________________________________________________________\n",
      "dropout_3 (Dropout)          (None, 8, 256)            0         \n",
      "_________________________________________________________________\n",
      "max_pooling1d_3 (MaxPooling1 (None, 4, 256)            0         \n",
      "_________________________________________________________________\n",
      "global_max_pooling1d_1 (Glob (None, 256)               0         \n",
      "_________________________________________________________________\n",
      "dense_1 (Dense)              (None, 256)               65792     \n",
      "_________________________________________________________________\n",
      "dense_2 (Dense)              (None, 167)               42919     \n",
      "=================================================================\n",
      "Total params: 267,939\n",
      "Trainable params: 267,939\n",
      "Non-trainable params: 0\n",
      "_________________________________________________________________\n"
     ]
    }
   ],
   "source": [
    "from keras.layers import *\n",
    "from keras.models import *\n",
    "from keras.callbacks import *\n",
    "import keras.backend as K\n",
    "\n",
    "K.clear_session()\n",
    "model = Sequential()\n",
    "    \n",
    "#embedding layer\n",
    "model.add(Embedding(len(unique_x), 100, input_length=32,trainable=True)) \n",
    "\n",
    "model.add(Conv1D(64,3, padding='causal',activation='relu'))\n",
    "model.add(Dropout(0.2))\n",
    "model.add(MaxPool1D(2))\n",
    "    \n",
    "model.add(Conv1D(128,3,activation='relu',dilation_rate=2,padding='causal'))\n",
    "model.add(Dropout(0.2))\n",
    "model.add(MaxPool1D(2))\n",
    "\n",
    "model.add(Conv1D(256,3,activation='relu',dilation_rate=4,padding='causal'))\n",
    "model.add(Dropout(0.2))\n",
    "model.add(MaxPool1D(2))\n",
    "          \n",
    "#model.add(Conv1D(256,5,activation='relu'))    \n",
    "model.add(GlobalMaxPool1D())\n",
    "    \n",
    "model.add(Dense(256, activation='relu'))\n",
    "model.add(Dense(len(unique_y), activation='softmax'))\n",
    "    \n",
    "model.compile(loss='sparse_categorical_crossentropy', optimizer='adam')\n",
    "\n",
    "model.summary()"
   ]
  },
  {
   "cell_type": "code",
   "execution_count": 15,
   "metadata": {},
   "outputs": [],
   "source": [
    "mc=ModelCheckpoint('best_model.h5', monitor='val_loss', mode='min', save_best_only=True,verbose=1)"
   ]
  },
  {
   "cell_type": "code",
   "execution_count": 16,
   "metadata": {},
   "outputs": [
    {
     "name": "stderr",
     "output_type": "stream",
     "text": [
      "C:\\Users\\crack\\miniconda3\\lib\\site-packages\\tensorflow_core\\python\\framework\\indexed_slices.py:433: UserWarning: Converting sparse IndexedSlices to a dense Tensor of unknown shape. This may consume a large amount of memory.\n",
      "  \"Converting sparse IndexedSlices to a dense Tensor of unknown shape. \"\n"
     ]
    },
    {
     "name": "stdout",
     "output_type": "stream",
     "text": [
      "Train on 51530 samples, validate on 12883 samples\n",
      "Epoch 1/50\n",
      "51530/51530 [==============================] - 18s 353us/step - loss: 4.3053 - val_loss: 4.0123\n",
      "\n",
      "Epoch 00001: val_loss improved from inf to 4.01231, saving model to best_model.h5\n",
      "Epoch 2/50\n",
      "51530/51530 [==============================] - 18s 347us/step - loss: 3.7962 - val_loss: 3.8574\n",
      "\n",
      "Epoch 00002: val_loss improved from 4.01231 to 3.85736, saving model to best_model.h5\n",
      "Epoch 3/50\n",
      "51530/51530 [==============================] - 16s 310us/step - loss: 3.6263 - val_loss: 3.7036\n",
      "\n",
      "Epoch 00003: val_loss improved from 3.85736 to 3.70358, saving model to best_model.h5\n",
      "Epoch 4/50\n",
      "51530/51530 [==============================] - 17s 337us/step - loss: 3.4883 - val_loss: 3.5703\n",
      "\n",
      "Epoch 00004: val_loss improved from 3.70358 to 3.57026, saving model to best_model.h5\n",
      "Epoch 5/50\n",
      "51530/51530 [==============================] - 18s 344us/step - loss: 3.3814 - val_loss: 3.4869\n",
      "\n",
      "Epoch 00005: val_loss improved from 3.57026 to 3.48693, saving model to best_model.h5\n",
      "Epoch 6/50\n",
      "51530/51530 [==============================] - 16s 320us/step - loss: 3.2912 - val_loss: 3.4058\n",
      "\n",
      "Epoch 00006: val_loss improved from 3.48693 to 3.40578, saving model to best_model.h5\n",
      "Epoch 7/50\n",
      "51530/51530 [==============================] - 17s 323us/step - loss: 3.2152 - val_loss: 3.3742\n",
      "\n",
      "Epoch 00007: val_loss improved from 3.40578 to 3.37423, saving model to best_model.h5\n",
      "Epoch 8/50\n",
      "51530/51530 [==============================] - 17s 324us/step - loss: 3.1494 - val_loss: 3.2999\n",
      "\n",
      "Epoch 00008: val_loss improved from 3.37423 to 3.29993, saving model to best_model.h5\n",
      "Epoch 9/50\n",
      "51530/51530 [==============================] - 17s 331us/step - loss: 3.0873 - val_loss: 3.2543\n",
      "\n",
      "Epoch 00009: val_loss improved from 3.29993 to 3.25427, saving model to best_model.h5\n",
      "Epoch 10/50\n",
      "51530/51530 [==============================] - 17s 329us/step - loss: 3.0404 - val_loss: 3.2280\n",
      "\n",
      "Epoch 00010: val_loss improved from 3.25427 to 3.22800, saving model to best_model.h5\n",
      "Epoch 11/50\n",
      "51530/51530 [==============================] - 17s 333us/step - loss: 2.9890 - val_loss: 3.2256\n",
      "\n",
      "Epoch 00011: val_loss improved from 3.22800 to 3.22559, saving model to best_model.h5\n",
      "Epoch 12/50\n",
      "51530/51530 [==============================] - 17s 339us/step - loss: 2.9437 - val_loss: 3.1851\n",
      "\n",
      "Epoch 00012: val_loss improved from 3.22559 to 3.18508, saving model to best_model.h5\n",
      "Epoch 13/50\n",
      "51530/51530 [==============================] - 18s 341us/step - loss: 2.9069 - val_loss: 3.1240\n",
      "\n",
      "Epoch 00013: val_loss improved from 3.18508 to 3.12401, saving model to best_model.h5\n",
      "Epoch 14/50\n",
      "51530/51530 [==============================] - 18s 351us/step - loss: 2.8649 - val_loss: 3.1198\n",
      "\n",
      "Epoch 00014: val_loss improved from 3.12401 to 3.11976, saving model to best_model.h5\n",
      "Epoch 15/50\n",
      "51530/51530 [==============================] - 18s 355us/step - loss: 2.8314 - val_loss: 3.0838\n",
      "\n",
      "Epoch 00015: val_loss improved from 3.11976 to 3.08380, saving model to best_model.h5\n",
      "Epoch 16/50\n",
      "51530/51530 [==============================] - 18s 357us/step - loss: 2.8052 - val_loss: 3.0638\n",
      "\n",
      "Epoch 00016: val_loss improved from 3.08380 to 3.06379, saving model to best_model.h5\n",
      "Epoch 17/50\n",
      "51530/51530 [==============================] - 18s 357us/step - loss: 2.7750 - val_loss: 3.0496\n",
      "\n",
      "Epoch 00017: val_loss improved from 3.06379 to 3.04955, saving model to best_model.h5\n",
      "Epoch 18/50\n",
      "51530/51530 [==============================] - 19s 367us/step - loss: 2.7465 - val_loss: 3.0478\n",
      "\n",
      "Epoch 00018: val_loss improved from 3.04955 to 3.04778, saving model to best_model.h5\n",
      "Epoch 19/50\n",
      "51530/51530 [==============================] - 19s 364us/step - loss: 2.7175 - val_loss: 2.9983\n",
      "\n",
      "Epoch 00019: val_loss improved from 3.04778 to 2.99825, saving model to best_model.h5\n",
      "Epoch 20/50\n",
      "51530/51530 [==============================] - 18s 356us/step - loss: 2.6980 - val_loss: 2.9894\n",
      "\n",
      "Epoch 00020: val_loss improved from 2.99825 to 2.98937, saving model to best_model.h5\n",
      "Epoch 21/50\n",
      "51530/51530 [==============================] - 19s 366us/step - loss: 2.6713 - val_loss: 2.9674\n",
      "\n",
      "Epoch 00021: val_loss improved from 2.98937 to 2.96736, saving model to best_model.h5\n",
      "Epoch 22/50\n",
      "51530/51530 [==============================] - 19s 359us/step - loss: 2.6547 - val_loss: 2.9954\n",
      "\n",
      "Epoch 00022: val_loss did not improve from 2.96736\n",
      "Epoch 23/50\n",
      "51530/51530 [==============================] - 19s 364us/step - loss: 2.6300 - val_loss: 2.9521\n",
      "\n",
      "Epoch 00023: val_loss improved from 2.96736 to 2.95213, saving model to best_model.h5\n",
      "Epoch 24/50\n",
      "51530/51530 [==============================] - 19s 362us/step - loss: 2.6116 - val_loss: 2.9334\n",
      "\n",
      "Epoch 00024: val_loss improved from 2.95213 to 2.93345, saving model to best_model.h5\n",
      "Epoch 25/50\n",
      "51530/51530 [==============================] - 19s 369us/step - loss: 2.5931 - val_loss: 2.9290\n",
      "\n",
      "Epoch 00025: val_loss improved from 2.93345 to 2.92904, saving model to best_model.h5\n",
      "Epoch 26/50\n",
      "51530/51530 [==============================] - 19s 361us/step - loss: 2.5772 - val_loss: 2.9254\n",
      "\n",
      "Epoch 00026: val_loss improved from 2.92904 to 2.92540, saving model to best_model.h5\n",
      "Epoch 27/50\n",
      "51530/51530 [==============================] - 18s 355us/step - loss: 2.5648 - val_loss: 2.9249\n",
      "\n",
      "Epoch 00027: val_loss improved from 2.92540 to 2.92485, saving model to best_model.h5\n",
      "Epoch 28/50\n",
      "51530/51530 [==============================] - 18s 355us/step - loss: 2.5454 - val_loss: 2.8943\n",
      "\n",
      "Epoch 00028: val_loss improved from 2.92485 to 2.89425, saving model to best_model.h5\n",
      "Epoch 29/50\n",
      "51530/51530 [==============================] - 19s 372us/step - loss: 2.5328 - val_loss: 2.8875\n",
      "\n",
      "Epoch 00029: val_loss improved from 2.89425 to 2.88751, saving model to best_model.h5\n",
      "Epoch 30/50\n",
      "51530/51530 [==============================] - 18s 357us/step - loss: 2.5190 - val_loss: 2.8802\n",
      "\n",
      "Epoch 00030: val_loss improved from 2.88751 to 2.88025, saving model to best_model.h5\n",
      "Epoch 31/50\n",
      "51530/51530 [==============================] - 19s 359us/step - loss: 2.5009 - val_loss: 2.8821\n",
      "\n",
      "Epoch 00031: val_loss did not improve from 2.88025\n",
      "Epoch 32/50\n",
      "51530/51530 [==============================] - 18s 357us/step - loss: 2.4949 - val_loss: 2.8587\n",
      "\n",
      "Epoch 00032: val_loss improved from 2.88025 to 2.85868, saving model to best_model.h5\n",
      "Epoch 33/50\n",
      "51530/51530 [==============================] - 19s 360us/step - loss: 2.4810 - val_loss: 2.8669\n",
      "\n",
      "Epoch 00033: val_loss did not improve from 2.85868\n",
      "Epoch 34/50\n",
      "51530/51530 [==============================] - 18s 358us/step - loss: 2.4685 - val_loss: 2.8453\n",
      "\n",
      "Epoch 00034: val_loss improved from 2.85868 to 2.84530, saving model to best_model.h5\n",
      "Epoch 35/50\n",
      "51530/51530 [==============================] - 19s 361us/step - loss: 2.4559 - val_loss: 2.8411\n",
      "\n",
      "Epoch 00035: val_loss improved from 2.84530 to 2.84108, saving model to best_model.h5\n",
      "Epoch 36/50\n",
      "51530/51530 [==============================] - 18s 358us/step - loss: 2.4474 - val_loss: 2.8484: 0s - loss: 2.\n",
      "\n",
      "Epoch 00036: val_loss did not improve from 2.84108\n",
      "Epoch 37/50\n",
      "51530/51530 [==============================] - 19s 363us/step - loss: 2.4351 - val_loss: 2.8275\n",
      "\n",
      "Epoch 00037: val_loss improved from 2.84108 to 2.82750, saving model to best_model.h5\n",
      "Epoch 38/50\n",
      "51530/51530 [==============================] - 19s 362us/step - loss: 2.4293 - val_loss: 2.8354\n",
      "\n",
      "Epoch 00038: val_loss did not improve from 2.82750\n",
      "Epoch 39/50\n",
      "51530/51530 [==============================] - 18s 359us/step - loss: 2.4193 - val_loss: 2.8219\n",
      "\n",
      "Epoch 00039: val_loss improved from 2.82750 to 2.82190, saving model to best_model.h5\n",
      "Epoch 40/50\n",
      "51530/51530 [==============================] - 18s 358us/step - loss: 2.4057 - val_loss: 2.8213\n",
      "\n",
      "Epoch 00040: val_loss improved from 2.82190 to 2.82128, saving model to best_model.h5\n",
      "Epoch 41/50\n",
      "51530/51530 [==============================] - 19s 364us/step - loss: 2.4056 - val_loss: 2.8061\n",
      "\n",
      "Epoch 00041: val_loss improved from 2.82128 to 2.80611, saving model to best_model.h5\n",
      "Epoch 42/50\n",
      "51530/51530 [==============================] - 19s 371us/step - loss: 2.3989 - val_loss: 2.8051\n",
      "\n",
      "Epoch 00042: val_loss improved from 2.80611 to 2.80515, saving model to best_model.h5\n",
      "Epoch 43/50\n",
      "51530/51530 [==============================] - 19s 360us/step - loss: 2.3922 - val_loss: 2.7980\n",
      "\n",
      "Epoch 00043: val_loss improved from 2.80515 to 2.79804, saving model to best_model.h5\n",
      "Epoch 44/50\n"
     ]
    },
    {
     "name": "stdout",
     "output_type": "stream",
     "text": [
      "51530/51530 [==============================] - 19s 359us/step - loss: 2.3838 - val_loss: 2.7952\n",
      "\n",
      "Epoch 00044: val_loss improved from 2.79804 to 2.79520, saving model to best_model.h5\n",
      "Epoch 45/50\n",
      "51530/51530 [==============================] - 18s 353us/step - loss: 2.3680 - val_loss: 2.7967\n",
      "\n",
      "Epoch 00045: val_loss did not improve from 2.79520\n",
      "Epoch 46/50\n",
      "51530/51530 [==============================] - 18s 354us/step - loss: 2.3602 - val_loss: 2.7995\n",
      "\n",
      "Epoch 00046: val_loss did not improve from 2.79520\n",
      "Epoch 47/50\n",
      "51530/51530 [==============================] - 18s 354us/step - loss: 2.3488 - val_loss: 2.7892\n",
      "\n",
      "Epoch 00047: val_loss improved from 2.79520 to 2.78923, saving model to best_model.h5\n",
      "Epoch 48/50\n",
      "51530/51530 [==============================] - 18s 353us/step - loss: 2.3458 - val_loss: 2.7729\n",
      "\n",
      "Epoch 00048: val_loss improved from 2.78923 to 2.77287, saving model to best_model.h5\n",
      "Epoch 49/50\n",
      "51530/51530 [==============================] - 18s 356us/step - loss: 2.3448 - val_loss: 2.7745\n",
      "\n",
      "Epoch 00049: val_loss did not improve from 2.77287\n",
      "Epoch 50/50\n",
      "51530/51530 [==============================] - 18s 355us/step - loss: 2.3346 - val_loss: 2.7692\n",
      "\n",
      "Epoch 00050: val_loss improved from 2.77287 to 2.76918, saving model to best_model.h5\n"
     ]
    }
   ],
   "source": [
    "history = model.fit(np.array(x_tr),np.array(y_tr),batch_size=128,epochs=50, validation_data=(np.array(x_val),np.array(y_val)),verbose=1, callbacks=[mc])"
   ]
  },
  {
   "cell_type": "code",
   "execution_count": 17,
   "metadata": {},
   "outputs": [
    {
     "name": "stderr",
     "output_type": "stream",
     "text": [
      "C:\\Users\\crack\\miniconda3\\lib\\site-packages\\tensorflow_core\\python\\framework\\indexed_slices.py:433: UserWarning: Converting sparse IndexedSlices to a dense Tensor of unknown shape. This may consume a large amount of memory.\n",
      "  \"Converting sparse IndexedSlices to a dense Tensor of unknown shape. \"\n"
     ]
    }
   ],
   "source": [
    "#loading best model\n",
    "from keras.models import load_model\n",
    "model = load_model('best_model.h5')"
   ]
  },
  {
   "cell_type": "code",
   "execution_count": 18,
   "metadata": {},
   "outputs": [
    {
     "name": "stdout",
     "output_type": "stream",
     "text": [
      "[27, 131, 27, 28, 27, 46, 27, 28, 27, 27]\n"
     ]
    }
   ],
   "source": [
    "import random\n",
    "ind = np.random.randint(0,len(x_val)-1)\n",
    "\n",
    "random_music = x_val[ind]\n",
    "\n",
    "predictions=[]\n",
    "for i in range(10):\n",
    "\n",
    "    random_music = random_music.reshape(1,no_of_timesteps)\n",
    "\n",
    "    prob  = model.predict(random_music)[0]\n",
    "    y_pred= np.argmax(prob,axis=0)\n",
    "    predictions.append(y_pred)\n",
    "\n",
    "    random_music = np.insert(random_music[0],len(random_music[0]),y_pred)\n",
    "    random_music = random_music[1:]\n",
    "    \n",
    "print(predictions)"
   ]
  },
  {
   "cell_type": "code",
   "execution_count": 19,
   "metadata": {},
   "outputs": [],
   "source": [
    "x_int_to_note = dict((number, note_) for number, note_ in enumerate(unique_x)) \n",
    "predicted_notes = [x_int_to_note[i] for i in predictions]"
   ]
  },
  {
   "cell_type": "code",
   "execution_count": 20,
   "metadata": {},
   "outputs": [],
   "source": [
    "def convert_to_midi(prediction_output):\n",
    "   \n",
    "    offset = 0\n",
    "    output_notes = []\n",
    "\n",
    "    # create note and chord objects based on the values generated by the model\n",
    "    for pattern in prediction_output:\n",
    "        \n",
    "        # pattern is a chord\n",
    "        if ('.' in pattern) or pattern.isdigit():\n",
    "            notes_in_chord = pattern.split('.')\n",
    "            notes = []\n",
    "            for current_note in notes_in_chord:\n",
    "                \n",
    "                cn=int(current_note)\n",
    "                new_note = note.Note(cn)\n",
    "                new_note.storedInstrument = instrument.Piano()\n",
    "                notes.append(new_note)\n",
    "                \n",
    "            new_chord = chord.Chord(notes)\n",
    "            new_chord.offset = offset\n",
    "            output_notes.append(new_chord)\n",
    "            \n",
    "        # pattern is a note\n",
    "        else:\n",
    "            \n",
    "            new_note = note.Note(pattern)\n",
    "            new_note.offset = offset\n",
    "            new_note.storedInstrument = instrument.Piano()\n",
    "            output_notes.append(new_note)\n",
    "\n",
    "        # increase offset each iteration so that notes do not stack\n",
    "        offset += 1\n",
    "    midi_stream = stream.Stream(output_notes)\n",
    "    midi_stream.write('midi', fp='music.mid')"
   ]
  },
  {
   "cell_type": "code",
   "execution_count": 21,
   "metadata": {},
   "outputs": [],
   "source": [
    "convert_to_midi(predicted_notes)"
   ]
  }
 ],
 "metadata": {
  "kernelspec": {
   "display_name": "Python 3",
   "language": "python",
   "name": "python3"
  },
  "language_info": {
   "codemirror_mode": {
    "name": "ipython",
    "version": 3
   },
   "file_extension": ".py",
   "mimetype": "text/x-python",
   "name": "python",
   "nbconvert_exporter": "python",
   "pygments_lexer": "ipython3",
   "version": "3.6.12"
  }
 },
 "nbformat": 4,
 "nbformat_minor": 4
}
